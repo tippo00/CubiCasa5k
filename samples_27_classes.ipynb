{
 "cells": [
  {
   "cell_type": "markdown",
   "metadata": {},
   "source": [
    "# Example notebook"
   ]
  },
  {
   "cell_type": "code",
   "execution_count": null,
   "metadata": {},
   "outputs": [],
   "source": [
    "import os\n",
    "print(os.getcwd())\n",
    "os.chdir('/app')\n",
    "print(os.getcwd())"
   ]
  },
  {
   "cell_type": "code",
   "execution_count": null,
   "metadata": {},
   "outputs": [],
   "source": [
    "%matplotlib inline\n",
    "from skimage import transform\n",
    "import numpy as np\n",
    "import matplotlib.pyplot as plt\n",
    "import matplotlib.image as mpimg\n",
    "from matplotlib.colors import ListedColormap\n",
    "import torch\n",
    "import torch.nn.functional as F\n",
    "from torch.utils.data import DataLoader\n",
    "from floortrans.models import get_model\n",
    "from floortrans.loaders import FloorplanSVG, DictToTensor, Compose, RotateNTurns\n",
    "from floortrans.plotting import segmentation_plot, polygons_to_image, draw_junction_from_dict, discrete_cmap\n",
    "# discrete_cmap()\n",
    "from floortrans.post_prosessing import split_prediction, get_polygons, split_validation\n",
    "from mpl_toolkits.axes_grid1 import AxesGrid\n",
    "\n",
    "rot = RotateNTurns()\n",
    "room_classes = [\"Background\", \"Wall\", \"Room\"]\n",
    "icon_classes = [\"No Icon\", \"Window\", \"Door\"]\n",
    "\n",
    "rooms_cmap = ListedColormap([\"grey\", \"black\", \"green\"])\n",
    "icons_cmap = ListedColormap([\"grey\", \"cyan\", \"brown\"])\n",
    "\n",
    "data_folder = 'data/cubicasa5k/'\n",
    "data_file = 'test.txt'\n",
    "normal_set = FloorplanSVG(data_folder, data_file, format='txt', original_size=True)\n",
    "data_loader = DataLoader(normal_set, batch_size=1, num_workers=0)\n",
    "data_iter = iter(data_loader)\n",
    "# Setup Model\n",
    "model = get_model('cc5k', 44)\n",
    "\n",
    "n_classes = 27\n",
    "split = [21, 3, 3]\n",
    "model.conv4_ = torch.nn.Conv2d(256, n_classes, bias=True, kernel_size=1)\n",
    "model.upsample = torch.nn.ConvTranspose2d(n_classes, n_classes, kernel_size=4, stride=4)\n",
    "# checkpoint = torch.load('model_best_val_loss_var.pkl')\n",
    "checkpoint = torch.load('runs_cubi/2024-05-25-14:44:26-nclass:27-freeze/model_best_val_loss_var.pkl')\n",
    "# checkpoint = torch.load('runs_cubi/2024-05-21-09:41:21-arch:cc5k-nclass:29-ldiv:1/model_best_val_loss.pkl')\n",
    "# checkpoint = torch.load('runs_cubi/2024-05-21-09:41:21-arch:cc5k-nclass:29-ldiv:1/model_best_val_acc.pkl')\n",
    "\n",
    "\n",
    "model.load_state_dict(checkpoint['model_state'])\n",
    "model.eval()\n",
    "model.cuda()\n",
    "print(\"Model loaded.\")"
   ]
  },
  {
   "cell_type": "code",
   "execution_count": null,
   "metadata": {},
   "outputs": [],
   "source": [
    "val = next(data_iter)\n",
    "junctions = val['heatmaps']\n",
    "folder = val['folder'][0]\n",
    "image = val['image'].cuda()\n",
    "label = val['label']\n",
    "np_img = np.moveaxis(image[0].cpu().data.numpy(), 0, -1) / 2 + 0.5\n",
    "plt.figure(figsize=(10,10))\n",
    "plt.title('Source Image', fontsize=20)\n",
    "plt.axis('off')\n",
    "plt.imshow(np_img)\n",
    "plt.show()"
   ]
  },
  {
   "cell_type": "markdown",
   "metadata": {},
   "source": [
    "## The SVG floorplan\n",
    "If the floorplan includes two floors the other floor might not be visible, but it will be parsed never the less."
   ]
  },
  {
   "cell_type": "code",
   "execution_count": null,
   "metadata": {},
   "outputs": [],
   "source": [
    "from IPython.display import Image\n",
    "from IPython.core.display import HTML \n",
    "Image(url= data_folder+folder+\"model.svg\", width=800)"
   ]
  },
  {
   "cell_type": "markdown",
   "metadata": {},
   "source": [
    "## Parsed labels"
   ]
  },
  {
   "cell_type": "code",
   "execution_count": null,
   "metadata": {},
   "outputs": [],
   "source": [
    "label_np = label.data.numpy()[0]\n",
    "plt.figure(figsize=(10,10))\n",
    "ax = plt.subplot(1, 1, 1)\n",
    "plt.title('Rooms and walls', fontsize=20)\n",
    "ax.axis('off')\n",
    "n_rooms = split[1]\n",
    "rseg = ax.imshow(label_np[0], cmap=rooms_cmap, vmin=0, vmax=n_rooms-0.1)\n",
    "cbar = plt.colorbar(rseg, ticks=np.arange(n_rooms) + 0.5, fraction=0.046, pad=0.01)\n",
    "cbar.ax.set_yticklabels(room_classes, fontsize=20)\n",
    "plt.show()\n",
    "\n",
    "plt.figure(figsize=(10,10))\n",
    "ax = plt.subplot(1, 1, 1)\n",
    "plt.title('Icons', fontsize=20)\n",
    "ax.axis('off')\n",
    "n_icons = split[2]\n",
    "iseg = ax.imshow(label_np[1], cmap=icons_cmap, vmin=0, vmax=n_icons-0.1)\n",
    "cbar = plt.colorbar(iseg, ticks=np.arange(n_icons) + 0.5, fraction=0.046, pad=0.01)\n",
    "cbar.ax.set_yticklabels(icon_classes, fontsize=20)\n",
    "plt.show()\n",
    "\n",
    "plt.figure(figsize=(10,10))\n",
    "ax = plt.subplot(1, 1, 1)\n",
    "plt.title('Wall junctions, Icon corners and opening end points', fontsize=20)\n",
    "ax.axis('off')\n",
    "ax.imshow(np_img)\n",
    "h, w, _ = np_img.shape\n",
    "draw_junction_from_dict(junctions, w, h, size=0.3, fontsize=10)\n",
    "plt.show()"
   ]
  },
  {
   "cell_type": "markdown",
   "metadata": {},
   "source": [
    "## Networks prediction for the segmentation"
   ]
  },
  {
   "cell_type": "code",
   "execution_count": null,
   "metadata": {},
   "outputs": [],
   "source": [
    "with torch.no_grad():\n",
    "    height = label_np.shape[1]\n",
    "    width = label_np.shape[2]\n",
    "    img_size = (height, width)\n",
    "    \n",
    "    # rotations = [(0, 0), (1, -1), (2, 2), (-1, 1)]\n",
    "    # rotations = [(0, 0), (2, 2)]\n",
    "    # rotations = [(0, 0), (1, -1)]\n",
    "    rotations = [(0, 0)]\n",
    "    pred_count = len(rotations)\n",
    "    prediction = torch.zeros([pred_count, n_classes, height, width])\n",
    "    for i, r in enumerate(rotations):\n",
    "        forward, back = r\n",
    "        # We rotate first the image\n",
    "        rot_image = rot(image, 'tensor', forward)\n",
    "        pred = model(rot_image)\n",
    "        # We rotate prediction back\n",
    "        pred = rot(pred, 'tensor', back)\n",
    "        # We fix heatmaps\n",
    "        pred = rot(pred, 'points', back)\n",
    "        # We make sure the size is correct\n",
    "        pred = F.interpolate(pred, size=(height, width), mode='bilinear', align_corners=True)\n",
    "        # We add the prediction to output\n",
    "        prediction[i] = pred[0]\n",
    "\n",
    "prediction = torch.mean(prediction, 0, True)\n",
    "# prediction[0, 0:13] = prediction[0, 0:13]*5\n",
    "rooms_label = label_np[0]\n",
    "icons_label = label_np[1]\n",
    "\n",
    "# heatmap_pred = F.softmax(prediction[0, 0:13], 0).cpu().data.numpy()\n",
    "# heatmap_predheatmap_pred = np.argmax(heatmap_pred, axis=0)\n",
    "heatmap_pred = np.sum(prediction[0, 0:13].cpu().data.numpy(), axis=0)\n",
    "# heatmap_pred = np.argmax(heatmap_pred, axis=0)\n",
    "\n",
    "rooms_pred = F.softmax(prediction[0, 21:21+split[1]], 0).cpu().data.numpy()\n",
    "rooms_pred = np.argmax(rooms_pred, axis=0)\n",
    "\n",
    "icons_pred = F.softmax(prediction[0, 21+split[1]:], 0).cpu().data.numpy()\n",
    "icons_pred = np.argmax(icons_pred, axis=0)\n",
    "\n",
    "plt.figure(figsize=(12,12))\n",
    "ax = plt.subplot(1, 1, 1)\n",
    "ax.axis('off')\n",
    "\n",
    "hseg = ax.imshow(heatmap_pred, vmin=0, vmax=n_rooms-0.1)\n",
    "# cbar = plt.colorbar(hseg, ticks=np.arange(n_rooms) + 0.5, fraction=0.046, pad=0.01)\n",
    "# cbar.ax.set_yticklabels(room_classes, fontsize=20)\n",
    "plt.show()\n",
    "\n",
    "plt.figure(figsize=(12,12))\n",
    "ax = plt.subplot(1, 1, 1)\n",
    "ax.axis('off')\n",
    "\n",
    "rseg = ax.imshow(rooms_pred, cmap=rooms_cmap, vmin=0, vmax=n_rooms-0.1)\n",
    "cbar = plt.colorbar(rseg, ticks=np.arange(n_rooms) + 0.5, fraction=0.046, pad=0.01)\n",
    "cbar.ax.set_yticklabels(room_classes, fontsize=20)\n",
    "plt.show()\n",
    "\n",
    "plt.figure(figsize=(12,12))\n",
    "ax = plt.subplot(1, 1, 1)\n",
    "ax.axis('off')\n",
    "iseg = ax.imshow(icons_pred, cmap=icons_cmap, vmin=0, vmax=n_icons-0.1)\n",
    "cbar = plt.colorbar(iseg, ticks=np.arange(n_icons) + 0.5, fraction=0.046, pad=0.01)\n",
    "cbar.ax.set_yticklabels(icon_classes, fontsize=20)\n",
    "plt.show()"
   ]
  },
  {
   "cell_type": "markdown",
   "metadata": {},
   "source": [
    "## Post-processed polygons"
   ]
  },
  {
   "cell_type": "code",
   "execution_count": null,
   "metadata": {},
   "outputs": [],
   "source": [
    "\n",
    "heatmaps, rooms, icons = split_prediction(prediction, img_size, split)\n",
    "polygons, types, room_polygons, room_types = get_polygons((heatmaps, rooms, icons), 0.2, [1, 2])\n",
    "\n",
    "pol_room_seg, pol_icon_seg = polygons_to_image(polygons, types, room_polygons, room_types, height, width)\n",
    "plt.figure(figsize=(12,12))\n",
    "ax = plt.subplot(1, 1, 1)\n",
    "ax.axis('off')\n",
    "rseg = ax.imshow(pol_room_seg, cmap=rooms_cmap, vmin=0, vmax=n_rooms-0.1)\n",
    "cbar = plt.colorbar(rseg, ticks=np.arange(n_rooms) + 0.5, fraction=0.046, pad=0.01)\n",
    "cbar.ax.set_yticklabels(room_classes, fontsize=20)\n",
    "plt.tight_layout()\n",
    "plt.show()\n",
    "\n",
    "plt.figure(figsize=(12,12))\n",
    "ax = plt.subplot(1, 1, 1)\n",
    "ax.axis('off')\n",
    "iseg = ax.imshow(pol_icon_seg, cmap=icons_cmap, vmin=0, vmax=n_icons-0.1)\n",
    "cbar = plt.colorbar(iseg, ticks=np.arange(n_icons) + 0.5, fraction=0.046, pad=0.01)\n",
    "cbar.ax.set_yticklabels(icon_classes, fontsize=20)\n",
    "plt.tight_layout()\n",
    "plt.show()"
   ]
  },
  {
   "cell_type": "markdown",
   "metadata": {},
   "source": [
    "## Ground truth and prediction comparisons"
   ]
  },
  {
   "cell_type": "code",
   "execution_count": null,
   "metadata": {},
   "outputs": [],
   "source": [
    "fig = plt.figure(figsize=(26, 12))\n",
    "grid = AxesGrid(fig, 111,\n",
    "                nrows_ncols=(1, 2),\n",
    "                axes_pad=0.05,\n",
    "                cbar_mode='single',\n",
    "                cbar_location='right',\n",
    "                cbar_pad=0.1\n",
    "                )\n",
    "images = [label_np[0], pol_room_seg]\n",
    "for i, ax in enumerate(grid):\n",
    "    ax.set_axis_off()\n",
    "    im = ax.imshow(images[i], cmap=rooms_cmap, vmin=0, vmax=n_rooms-0.1)\n",
    "cbar = ax.cax.colorbar(rseg, ticks=np.arange(n_rooms) + 0.5)\n",
    "cbar.ax.set_yticklabels(room_classes, fontsize=26)\n",
    "plt.show()"
   ]
  },
  {
   "cell_type": "code",
   "execution_count": null,
   "metadata": {},
   "outputs": [],
   "source": [
    "fig = plt.figure(figsize=(26, 12))\n",
    "grid = AxesGrid(fig, 111,\n",
    "                nrows_ncols=(1, 2),\n",
    "                axes_pad=0.05,\n",
    "                cbar_mode='single',\n",
    "                cbar_location='right',\n",
    "                cbar_pad=0.1\n",
    "                )\n",
    "\n",
    "images = [label_np[1], pol_icon_seg]\n",
    "for i, ax in enumerate(grid):\n",
    "    ax.set_axis_off()\n",
    "    im = ax.imshow(images[i], cmap=icons_cmap, vmin=0, vmax=n_icons-0.1)\n",
    "\n",
    "cbar = ax.cax.colorbar(iseg, ticks=np.arange(n_icons) + 0.5)\n",
    "cbar.ax.set_yticklabels(icon_classes, fontsize=26)\n",
    "plt.show()"
   ]
  },
  {
   "cell_type": "code",
   "execution_count": null,
   "metadata": {},
   "outputs": [],
   "source": []
  },
  {
   "cell_type": "code",
   "execution_count": null,
   "metadata": {},
   "outputs": [],
   "source": []
  }
 ],
 "metadata": {
  "kernelspec": {
   "display_name": "Python 3 (ipykernel)",
   "language": "python",
   "name": "python3"
  },
  "language_info": {
   "codemirror_mode": {
    "name": "ipython",
    "version": 3
   },
   "file_extension": ".py",
   "mimetype": "text/x-python",
   "name": "python",
   "nbconvert_exporter": "python",
   "pygments_lexer": "ipython3",
   "version": "3.11.4"
  }
 },
 "nbformat": 4,
 "nbformat_minor": 4
}
